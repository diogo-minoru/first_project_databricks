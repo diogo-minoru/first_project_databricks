{
 "cells": [
  {
   "cell_type": "code",
   "execution_count": 0,
   "metadata": {
    "application/vnd.databricks.v1+cell": {
     "cellMetadata": {
      "byteLimit": 2048000,
      "implicitDf": true,
      "rowLimit": 10000
     },
     "inputWidgets": {},
     "nuid": "566291d5-4fa6-4cbc-84e9-50d00e3cea6f",
     "showTitle": false,
     "tableResultSettingsMap": {
      "0": {
       "dataGridStateBlob": "{\"version\":1,\"tableState\":{\"columnPinning\":{\"left\":[\"#row_number#\"],\"right\":[]},\"columnSizing\":{},\"columnVisibility\":{}},\"settings\":{\"columns\":{}},\"syncTimestamp\":1761260348416}",
       "filterBlob": null,
       "queryPlanFiltersBlob": null,
       "tableResultIndex": 0
      }
     },
     "title": ""
    }
   },
   "outputs": [],
   "source": [
    "%sql\n",
    "create table first_project.silver.customers\n",
    "select a.customerkey,\n",
    "       initcap(a.gender) as gender,\n",
    "       left(a.givenname, 1) || '.' || a.middleinitial || '.' || left(a.surname, 1) as name,\n",
    "       a.geoareakey,\n",
    "       a.continent,\n",
    "       a.countryfull,\n",
    "       a.statefull,\n",
    "       a.city,\n",
    "       a.birthday,\n",
    "       a.age,\n",
    "       (floor((a.age / 5)) * 5) || ' to ' || (floor((a.age / 5)) * 5 + 4) as age_range,\n",
    "       a.occupation,\n",
    "       a.latitude,\n",
    "       a.longitude\n",
    "from first_project.bronze.customer a"
   ]
  }
 ],
 "metadata": {
  "application/vnd.databricks.v1+notebook": {
   "computePreferences": null,
   "dashboards": [],
   "environmentMetadata": {
    "base_environment": "",
    "environment_version": "4"
   },
   "inputWidgetPreferences": null,
   "language": "python",
   "notebookMetadata": {
    "mostRecentlyExecutedCommandWithImplicitDF": {
     "commandId": 2920620869448158,
     "dataframes": [
      "_sqldf"
     ]
    },
    "pythonIndentUnit": 4
   },
   "notebookName": "customers_silver",
   "widgets": {}
  },
  "language_info": {
   "name": "python"
  }
 },
 "nbformat": 4,
 "nbformat_minor": 0
}
