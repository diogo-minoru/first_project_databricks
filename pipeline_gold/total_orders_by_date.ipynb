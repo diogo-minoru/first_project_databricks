{
 "cells": [
  {
   "cell_type": "code",
   "execution_count": 0,
   "metadata": {
    "application/vnd.databricks.v1+cell": {
     "cellMetadata": {
      "byteLimit": 2048000,
      "rowLimit": 10000
     },
     "inputWidgets": {},
     "nuid": "bf026143-0491-43f7-894d-60b0b4273a2f",
     "showTitle": false,
     "tableResultSettingsMap": {
      "0": {
       "dataGridStateBlob": "{\"version\":1,\"tableState\":{\"columnPinning\":{\"left\":[\"#row_number#\"],\"right\":[]},\"columnSizing\":{},\"columnVisibility\":{}},\"settings\":{\"columns\":{}},\"syncTimestamp\":1761346692165}",
       "filterBlob": null,
       "queryPlanFiltersBlob": null,
       "tableResultIndex": 0
      }
     },
     "title": ""
    }
   },
   "outputs": [],
   "source": [
    "%sql\n",
    "drop table if exists first_project.gold.total_orders_by_date;\n",
    "create table first_project.gold.total_orders_by_date\n",
    "with first_buy as (\n",
    "  select a.customerkey,\n",
    "        min(orderdate) as first_buy_date\n",
    "  from first_project.silver.orders a\n",
    "  group by a.customerkey\n",
    "),\n",
    "\n",
    "total_orders_by_date as (\n",
    "  select a.orderdate,\n",
    "        count(*) as total_order_by_date,\n",
    "        count(distinct a.customerkey) as total_distinct_customer_by_date,\n",
    "        count(distinct b.ProductKey) as total_distinct_product_by_date,\n",
    "        count(c.customerkey) as total_new_customers_by_date,\n",
    "        round(sum(b.total_price_usd), 2) as total_revenue_usd_by_date,\n",
    "        sum(b.quantity) as total_quantity_by_date\n",
    "  from first_project.silver.orders a\n",
    "  join first_project.silver.orderrows b on a.orderkey = b.OrderKey\n",
    "  left join first_buy c on a.customerkey = c.customerkey and a.orderdate = c.first_buy_date\n",
    "  where a.orderdate > add_months(trunc(current_date(),'year'),-24)\n",
    "  group by a.orderdate\n",
    ")\n",
    "\n",
    "select a.*\n",
    "from total_orders_by_date a"
   ]
  }
 ],
 "metadata": {
  "application/vnd.databricks.v1+notebook": {
   "computePreferences": null,
   "dashboards": [],
   "environmentMetadata": {
    "base_environment": "",
    "environment_version": "4"
   },
   "inputWidgetPreferences": null,
   "language": "sql",
   "notebookMetadata": {
    "pythonIndentUnit": 4
   },
   "notebookName": "total_orders_by_date",
   "widgets": {}
  },
  "language_info": {
   "name": "sql"
  }
 },
 "nbformat": 4,
 "nbformat_minor": 0
}
