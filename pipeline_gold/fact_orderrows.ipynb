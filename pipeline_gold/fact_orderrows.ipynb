{
 "cells": [
  {
   "cell_type": "code",
   "execution_count": 0,
   "metadata": {
    "application/vnd.databricks.v1+cell": {
     "cellMetadata": {
      "byteLimit": 2048000,
      "rowLimit": 10000
     },
     "inputWidgets": {},
     "nuid": "bf026143-0491-43f7-894d-60b0b4273a2f",
     "showTitle": false,
     "tableResultSettingsMap": {
      "0": {
       "dataGridStateBlob": "{\"version\":1,\"tableState\":{\"columnPinning\":{\"left\":[\"#row_number#\"],\"right\":[]},\"columnSizing\":{},\"columnVisibility\":{}},\"settings\":{\"columns\":{}},\"syncTimestamp\":1761346692165}",
       "filterBlob": null,
       "queryPlanFiltersBlob": null,
       "tableResultIndex": 0
      }
     },
     "title": ""
    }
   },
   "outputs": [],
   "source": [
    "%sql\n",
    "drop table if exists first_project.gold.fact_orderrows;\n",
    "create table first_project.gold.fact_orderrows\n",
    "select a.orderkey,\n",
    "       a.quantity,\n",
    "       a.total_price_usd,\n",
    "       a.productkey,\n",
    "       b.orderdate,\n",
    "       b.deliverydate,\n",
    "       extract(day from b.deliverydate - b.orderdate) as delivery_days,\n",
    "       b.customerkey,\n",
    "       b.storekey\n",
    "from first_project.silver.orderrows a\n",
    "join first_project.silver.orders b on a.orderkey = b.orderkey"
   ]
  }
 ],
 "metadata": {
  "application/vnd.databricks.v1+notebook": {
   "computePreferences": null,
   "dashboards": [],
   "environmentMetadata": {
    "base_environment": "",
    "environment_version": "4"
   },
   "inputWidgetPreferences": null,
   "language": "sql",
   "notebookMetadata": {
    "pythonIndentUnit": 4
   },
   "notebookName": "fact_orderrows",
   "widgets": {}
  },
  "language_info": {
   "name": "sql"
  }
 },
 "nbformat": 4,
 "nbformat_minor": 0
}
