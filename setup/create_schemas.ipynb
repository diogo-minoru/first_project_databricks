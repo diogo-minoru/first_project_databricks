{
 "cells": [
  {
   "cell_type": "code",
   "execution_count": 0,
   "metadata": {
    "application/vnd.databricks.v1+cell": {
     "cellMetadata": {
      "byteLimit": 2048000,
      "implicitDf": true,
      "rowLimit": 10000
     },
     "inputWidgets": {},
     "nuid": "64eba581-7d29-45b2-a9a9-52bb0398ff29",
     "showTitle": false,
     "tableResultSettingsMap": {},
     "title": ""
    }
   },
   "outputs": [],
   "source": [
    "%sql\n",
    "-- Criando esquemas para fazer a ingestão dos dados\n",
    "USE CATALOG first_project;\n",
    "CREATE SCHEMA IF NOT EXISTS raw_public;\n",
    "\n",
    "CREATE SCHEMA IF NOT EXISTS bronze;\n",
    "\n",
    "CREATE SCHEMA IF NOT EXISTS silver;\n",
    "\n",
    "CREATE SCHEMA IF NOT EXISTS gold;"
   ]
  },
  {
   "cell_type": "code",
   "execution_count": 0,
   "metadata": {
    "application/vnd.databricks.v1+cell": {
     "cellMetadata": {
      "byteLimit": 2048000,
      "implicitDf": true,
      "rowLimit": 10000
     },
     "inputWidgets": {},
     "nuid": "d30856b7-75fb-4afb-846f-fd4dc6bbafb7",
     "showTitle": false,
     "tableResultSettingsMap": {},
     "title": ""
    }
   },
   "outputs": [],
   "source": [
    "%sql\n",
    "-- Atribuindo acesso ao catálogo para os diferentes usuários\n",
    "grant use catalog on catalog first_project to data_engineers;\n",
    "grant use catalog on catalog first_project to data_analysts;\n",
    "grant use catalog on catalog first_project to data_scientists;\n",
    "grant use catalog on catalog first_project to business_users;\n",
    "\n",
    "-- Dando acesso ao esquema raw_public apenas para data_engineers\n",
    "\n",
    "-- raw_public (data_engineers)\n",
    "grant use schema on schema first_project.raw_public to data_engineers;\n",
    "\n",
    "-- bronze (data_engineers e data_analysts)\n",
    "grant use schema on schema first_project.bronze to data_engineers;\n",
    "grant use schema on schema first_project.bronze to data_analysts;\n",
    "\n",
    "-- silver (data_engineers, data_analysts, data_scientists)\n",
    "grant use schema on schema first_project.silver to data_engineers;\n",
    "grant use schema on schema first_project.silver to data_analysts;\n",
    "grant use schema on schema first_project.silver to data_scientists;\n",
    "\n",
    "-- gold (todos)\n",
    "grant use schema on schema first_project.gold to data_engineers;\n",
    "grant use schema on schema first_project.gold to data_analysts;\n",
    "grant use schema on schema first_project.gold to data_scientists;\n",
    "grant use schema on schema first_project.gold to business_users;\n"
   ]
  }
 ],
 "metadata": {
  "application/vnd.databricks.v1+notebook": {
   "computePreferences": null,
   "dashboards": [],
   "environmentMetadata": {
    "base_environment": "",
    "environment_version": "4"
   },
   "inputWidgetPreferences": null,
   "language": "python",
   "notebookMetadata": {
    "mostRecentlyExecutedCommandWithImplicitDF": {
     "commandId": 5207456006529859,
     "dataframes": [
      "_sqldf"
     ]
    },
    "pythonIndentUnit": 4
   },
   "notebookName": "create_schemas",
   "widgets": {}
  },
  "language_info": {
   "name": "python"
  }
 },
 "nbformat": 4,
 "nbformat_minor": 0
}
